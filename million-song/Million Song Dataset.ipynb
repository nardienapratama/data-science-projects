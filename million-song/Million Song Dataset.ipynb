{
 "cells": [
  {
   "cell_type": "markdown",
   "id": "d5a3ce3a",
   "metadata": {},
   "source": [
    "# Multivariate Analysis Using Gradient Descent"
   ]
  },
  {
   "cell_type": "code",
   "execution_count": 169,
   "id": "7ffd8398",
   "metadata": {},
   "outputs": [],
   "source": [
    "# IMPORT LIBRARIES\n",
    "import matplotlib.pyplot as plt\n",
    "import numpy as np\n",
    "import pandas as pd\n",
    "import seaborn as sns\n",
    "from sklearn.model_selection import train_test_split\n",
    "import random\n",
    "\n",
    "%matplotlib inline"
   ]
  },
  {
   "cell_type": "markdown",
   "id": "512f52ed",
   "metadata": {},
   "source": [
    "## Data Sourcing"
   ]
  },
  {
   "cell_type": "markdown",
   "id": "035afec3",
   "metadata": {},
   "source": [
    "Source: http://archive.ics.uci.edu/ml/datasets/YearPredictionMSD\n",
    "\n",
    "This data is a subset of the Million Song Dataset: http://labrosa.ee.columbia.edu/millionsong/ a collaboration between LabROSA (Columbia University) and The Echo Nest. Prepared by T. Bertin-Mahieux <tb2332 '@' columbia.edu>\n"
   ]
  },
  {
   "cell_type": "markdown",
   "id": "c0304c16",
   "metadata": {},
   "source": [
    "## Data Cleaning"
   ]
  },
  {
   "cell_type": "code",
   "execution_count": 5,
   "id": "491104f5",
   "metadata": {},
   "outputs": [],
   "source": [
    "# READ THE \"MILLION SONG\" DATASET\n",
    "songs = pd.read_csv(\"million-song/MillionSongDataset.txt\", header=None)"
   ]
  },
  {
   "cell_type": "code",
   "execution_count": 6,
   "id": "e1bd2476",
   "metadata": {},
   "outputs": [
    {
     "data": {
      "text/html": [
       "<div>\n",
       "<style scoped>\n",
       "    .dataframe tbody tr th:only-of-type {\n",
       "        vertical-align: middle;\n",
       "    }\n",
       "\n",
       "    .dataframe tbody tr th {\n",
       "        vertical-align: top;\n",
       "    }\n",
       "\n",
       "    .dataframe thead th {\n",
       "        text-align: right;\n",
       "    }\n",
       "</style>\n",
       "<table border=\"1\" class=\"dataframe\">\n",
       "  <thead>\n",
       "    <tr style=\"text-align: right;\">\n",
       "      <th></th>\n",
       "      <th>0</th>\n",
       "      <th>1</th>\n",
       "      <th>2</th>\n",
       "      <th>3</th>\n",
       "      <th>4</th>\n",
       "      <th>5</th>\n",
       "      <th>6</th>\n",
       "      <th>7</th>\n",
       "      <th>8</th>\n",
       "      <th>9</th>\n",
       "      <th>...</th>\n",
       "      <th>81</th>\n",
       "      <th>82</th>\n",
       "      <th>83</th>\n",
       "      <th>84</th>\n",
       "      <th>85</th>\n",
       "      <th>86</th>\n",
       "      <th>87</th>\n",
       "      <th>88</th>\n",
       "      <th>89</th>\n",
       "      <th>90</th>\n",
       "    </tr>\n",
       "  </thead>\n",
       "  <tbody>\n",
       "    <tr>\n",
       "      <th>0</th>\n",
       "      <td>2001</td>\n",
       "      <td>49.94357</td>\n",
       "      <td>21.47114</td>\n",
       "      <td>73.07750</td>\n",
       "      <td>8.74861</td>\n",
       "      <td>-17.40628</td>\n",
       "      <td>-13.09905</td>\n",
       "      <td>-25.01202</td>\n",
       "      <td>-12.23257</td>\n",
       "      <td>7.83089</td>\n",
       "      <td>...</td>\n",
       "      <td>13.01620</td>\n",
       "      <td>-54.40548</td>\n",
       "      <td>58.99367</td>\n",
       "      <td>15.37344</td>\n",
       "      <td>1.11144</td>\n",
       "      <td>-23.08793</td>\n",
       "      <td>68.40795</td>\n",
       "      <td>-1.82223</td>\n",
       "      <td>-27.46348</td>\n",
       "      <td>2.26327</td>\n",
       "    </tr>\n",
       "    <tr>\n",
       "      <th>1</th>\n",
       "      <td>2001</td>\n",
       "      <td>48.73215</td>\n",
       "      <td>18.42930</td>\n",
       "      <td>70.32679</td>\n",
       "      <td>12.94636</td>\n",
       "      <td>-10.32437</td>\n",
       "      <td>-24.83777</td>\n",
       "      <td>8.76630</td>\n",
       "      <td>-0.92019</td>\n",
       "      <td>18.76548</td>\n",
       "      <td>...</td>\n",
       "      <td>5.66812</td>\n",
       "      <td>-19.68073</td>\n",
       "      <td>33.04964</td>\n",
       "      <td>42.87836</td>\n",
       "      <td>-9.90378</td>\n",
       "      <td>-32.22788</td>\n",
       "      <td>70.49388</td>\n",
       "      <td>12.04941</td>\n",
       "      <td>58.43453</td>\n",
       "      <td>26.92061</td>\n",
       "    </tr>\n",
       "    <tr>\n",
       "      <th>2</th>\n",
       "      <td>2001</td>\n",
       "      <td>50.95714</td>\n",
       "      <td>31.85602</td>\n",
       "      <td>55.81851</td>\n",
       "      <td>13.41693</td>\n",
       "      <td>-6.57898</td>\n",
       "      <td>-18.54940</td>\n",
       "      <td>-3.27872</td>\n",
       "      <td>-2.35035</td>\n",
       "      <td>16.07017</td>\n",
       "      <td>...</td>\n",
       "      <td>3.03800</td>\n",
       "      <td>26.05866</td>\n",
       "      <td>-50.92779</td>\n",
       "      <td>10.93792</td>\n",
       "      <td>-0.07568</td>\n",
       "      <td>43.20130</td>\n",
       "      <td>-115.00698</td>\n",
       "      <td>-0.05859</td>\n",
       "      <td>39.67068</td>\n",
       "      <td>-0.66345</td>\n",
       "    </tr>\n",
       "    <tr>\n",
       "      <th>3</th>\n",
       "      <td>2001</td>\n",
       "      <td>48.24750</td>\n",
       "      <td>-1.89837</td>\n",
       "      <td>36.29772</td>\n",
       "      <td>2.58776</td>\n",
       "      <td>0.97170</td>\n",
       "      <td>-26.21683</td>\n",
       "      <td>5.05097</td>\n",
       "      <td>-10.34124</td>\n",
       "      <td>3.55005</td>\n",
       "      <td>...</td>\n",
       "      <td>34.57337</td>\n",
       "      <td>-171.70734</td>\n",
       "      <td>-16.96705</td>\n",
       "      <td>-46.67617</td>\n",
       "      <td>-12.51516</td>\n",
       "      <td>82.58061</td>\n",
       "      <td>-72.08993</td>\n",
       "      <td>9.90558</td>\n",
       "      <td>199.62971</td>\n",
       "      <td>18.85382</td>\n",
       "    </tr>\n",
       "    <tr>\n",
       "      <th>4</th>\n",
       "      <td>2001</td>\n",
       "      <td>50.97020</td>\n",
       "      <td>42.20998</td>\n",
       "      <td>67.09964</td>\n",
       "      <td>8.46791</td>\n",
       "      <td>-15.85279</td>\n",
       "      <td>-16.81409</td>\n",
       "      <td>-12.48207</td>\n",
       "      <td>-9.37636</td>\n",
       "      <td>12.63699</td>\n",
       "      <td>...</td>\n",
       "      <td>9.92661</td>\n",
       "      <td>-55.95724</td>\n",
       "      <td>64.92712</td>\n",
       "      <td>-17.72522</td>\n",
       "      <td>-1.49237</td>\n",
       "      <td>-7.50035</td>\n",
       "      <td>51.76631</td>\n",
       "      <td>7.88713</td>\n",
       "      <td>55.66926</td>\n",
       "      <td>28.74903</td>\n",
       "    </tr>\n",
       "  </tbody>\n",
       "</table>\n",
       "<p>5 rows × 91 columns</p>\n",
       "</div>"
      ],
      "text/plain": [
       "     0         1         2         3         4         5         6         7   \\\n",
       "0  2001  49.94357  21.47114  73.07750   8.74861 -17.40628 -13.09905 -25.01202   \n",
       "1  2001  48.73215  18.42930  70.32679  12.94636 -10.32437 -24.83777   8.76630   \n",
       "2  2001  50.95714  31.85602  55.81851  13.41693  -6.57898 -18.54940  -3.27872   \n",
       "3  2001  48.24750  -1.89837  36.29772   2.58776   0.97170 -26.21683   5.05097   \n",
       "4  2001  50.97020  42.20998  67.09964   8.46791 -15.85279 -16.81409 -12.48207   \n",
       "\n",
       "         8         9   ...        81         82        83        84        85  \\\n",
       "0 -12.23257   7.83089  ...  13.01620  -54.40548  58.99367  15.37344   1.11144   \n",
       "1  -0.92019  18.76548  ...   5.66812  -19.68073  33.04964  42.87836  -9.90378   \n",
       "2  -2.35035  16.07017  ...   3.03800   26.05866 -50.92779  10.93792  -0.07568   \n",
       "3 -10.34124   3.55005  ...  34.57337 -171.70734 -16.96705 -46.67617 -12.51516   \n",
       "4  -9.37636  12.63699  ...   9.92661  -55.95724  64.92712 -17.72522  -1.49237   \n",
       "\n",
       "         86         87        88         89        90  \n",
       "0 -23.08793   68.40795  -1.82223  -27.46348   2.26327  \n",
       "1 -32.22788   70.49388  12.04941   58.43453  26.92061  \n",
       "2  43.20130 -115.00698  -0.05859   39.67068  -0.66345  \n",
       "3  82.58061  -72.08993   9.90558  199.62971  18.85382  \n",
       "4  -7.50035   51.76631   7.88713   55.66926  28.74903  \n",
       "\n",
       "[5 rows x 91 columns]"
      ]
     },
     "execution_count": 6,
     "metadata": {},
     "output_type": "execute_result"
    }
   ],
   "source": [
    "songs.head()"
   ]
  },
  {
   "cell_type": "code",
   "execution_count": 7,
   "id": "117e5636",
   "metadata": {},
   "outputs": [
    {
     "data": {
      "text/plain": [
       "0"
      ]
     },
     "execution_count": 7,
     "metadata": {},
     "output_type": "execute_result"
    }
   ],
   "source": [
    "sum(songs.isnull().sum())"
   ]
  },
  {
   "cell_type": "markdown",
   "id": "c60f6f76",
   "metadata": {},
   "source": [
    "Since the sum of all missing values is 0, no cells need to be dropped."
   ]
  },
  {
   "cell_type": "markdown",
   "id": "a821fd8f",
   "metadata": {},
   "source": [
    "### 1. Adding a column of ones for the bias term\n",
    "\n",
    "The bias term is $\\theta_{0}$ in the linear regression formula:\n",
    "\n",
    "$$ h_{\\theta}(X) = \\theta_{0} + \\theta_{1}X_{1} + \\theta_{2}X_{2} + \\theta_{3}X_{3} + ... + \\theta_{n}X_{n}$$"
   ]
  },
  {
   "cell_type": "code",
   "execution_count": 173,
   "id": "71548a22",
   "metadata": {},
   "outputs": [
    {
     "data": {
      "text/plain": [
       "515345"
      ]
     },
     "execution_count": 173,
     "metadata": {},
     "output_type": "execute_result"
    }
   ],
   "source": [
    "songs = pd.concat([pd.Series(1, index=songs.index, name='00'), songs], axis=1)\n",
    "songs.head()\n",
    "len(songs)"
   ]
  },
  {
   "cell_type": "markdown",
   "id": "775ce7be",
   "metadata": {},
   "source": [
    "### 2. Define independent and dependent variables"
   ]
  },
  {
   "cell_type": "code",
   "execution_count": 170,
   "id": "0fec647a",
   "metadata": {},
   "outputs": [],
   "source": [
    "X = songs.drop(columns=0)\n",
    "Y = songs.iloc[:, 1]"
   ]
  },
  {
   "cell_type": "markdown",
   "id": "9fd4770c",
   "metadata": {},
   "source": [
    "### 3. Normalize input variables\n",
    "\n",
    "Each column is divided by the maximum values of the column. This causes each column's values to be in the range of 0 and 1. Despite being an optional step, it helps the algorithm reach its optimum faster."
   ]
  },
  {
   "cell_type": "code",
   "execution_count": 171,
   "id": "cada04fd",
   "metadata": {},
   "outputs": [
    {
     "data": {
      "text/html": [
       "<div>\n",
       "<style scoped>\n",
       "    .dataframe tbody tr th:only-of-type {\n",
       "        vertical-align: middle;\n",
       "    }\n",
       "\n",
       "    .dataframe tbody tr th {\n",
       "        vertical-align: top;\n",
       "    }\n",
       "\n",
       "    .dataframe thead th {\n",
       "        text-align: right;\n",
       "    }\n",
       "</style>\n",
       "<table border=\"1\" class=\"dataframe\">\n",
       "  <thead>\n",
       "    <tr style=\"text-align: right;\">\n",
       "      <th></th>\n",
       "      <th>00</th>\n",
       "      <th>1</th>\n",
       "      <th>2</th>\n",
       "      <th>3</th>\n",
       "      <th>4</th>\n",
       "      <th>5</th>\n",
       "      <th>6</th>\n",
       "      <th>7</th>\n",
       "      <th>8</th>\n",
       "      <th>9</th>\n",
       "      <th>...</th>\n",
       "      <th>81</th>\n",
       "      <th>82</th>\n",
       "      <th>83</th>\n",
       "      <th>84</th>\n",
       "      <th>85</th>\n",
       "      <th>86</th>\n",
       "      <th>87</th>\n",
       "      <th>88</th>\n",
       "      <th>89</th>\n",
       "      <th>90</th>\n",
       "    </tr>\n",
       "  </thead>\n",
       "  <tbody>\n",
       "    <tr>\n",
       "      <th>0</th>\n",
       "      <td>1.0</td>\n",
       "      <td>0.805930</td>\n",
       "      <td>0.055905</td>\n",
       "      <td>0.226350</td>\n",
       "      <td>0.026055</td>\n",
       "      <td>-0.066419</td>\n",
       "      <td>-0.078797</td>\n",
       "      <td>-0.145079</td>\n",
       "      <td>-0.096516</td>\n",
       "      <td>0.053527</td>\n",
       "      <td>...</td>\n",
       "      <td>0.015478</td>\n",
       "      <td>-0.012173</td>\n",
       "      <td>0.018374</td>\n",
       "      <td>0.008865</td>\n",
       "      <td>0.004266</td>\n",
       "      <td>-0.006305</td>\n",
       "      <td>0.024142</td>\n",
       "      <td>-0.003932</td>\n",
       "      <td>-0.003715</td>\n",
       "      <td>0.003339</td>\n",
       "    </tr>\n",
       "    <tr>\n",
       "      <th>1</th>\n",
       "      <td>1.0</td>\n",
       "      <td>0.786381</td>\n",
       "      <td>0.047985</td>\n",
       "      <td>0.217830</td>\n",
       "      <td>0.038557</td>\n",
       "      <td>-0.039396</td>\n",
       "      <td>-0.149412</td>\n",
       "      <td>0.050848</td>\n",
       "      <td>-0.007260</td>\n",
       "      <td>0.128269</td>\n",
       "      <td>...</td>\n",
       "      <td>0.006740</td>\n",
       "      <td>-0.004403</td>\n",
       "      <td>0.010294</td>\n",
       "      <td>0.024727</td>\n",
       "      <td>-0.038012</td>\n",
       "      <td>-0.008800</td>\n",
       "      <td>0.024878</td>\n",
       "      <td>0.026001</td>\n",
       "      <td>0.007904</td>\n",
       "      <td>0.039712</td>\n",
       "    </tr>\n",
       "    <tr>\n",
       "      <th>2</th>\n",
       "      <td>1.0</td>\n",
       "      <td>0.822285</td>\n",
       "      <td>0.082944</td>\n",
       "      <td>0.172892</td>\n",
       "      <td>0.039958</td>\n",
       "      <td>-0.025104</td>\n",
       "      <td>-0.111584</td>\n",
       "      <td>-0.019018</td>\n",
       "      <td>-0.018544</td>\n",
       "      <td>0.109845</td>\n",
       "      <td>...</td>\n",
       "      <td>0.003612</td>\n",
       "      <td>0.005830</td>\n",
       "      <td>-0.015862</td>\n",
       "      <td>0.006308</td>\n",
       "      <td>-0.000290</td>\n",
       "      <td>0.011797</td>\n",
       "      <td>-0.040587</td>\n",
       "      <td>-0.000126</td>\n",
       "      <td>0.005366</td>\n",
       "      <td>-0.000979</td>\n",
       "    </tr>\n",
       "    <tr>\n",
       "      <th>3</th>\n",
       "      <td>1.0</td>\n",
       "      <td>0.778560</td>\n",
       "      <td>-0.004943</td>\n",
       "      <td>0.112429</td>\n",
       "      <td>0.007707</td>\n",
       "      <td>0.003708</td>\n",
       "      <td>-0.157708</td>\n",
       "      <td>0.029298</td>\n",
       "      <td>-0.081593</td>\n",
       "      <td>0.024266</td>\n",
       "      <td>...</td>\n",
       "      <td>0.041111</td>\n",
       "      <td>-0.038418</td>\n",
       "      <td>-0.005285</td>\n",
       "      <td>-0.026917</td>\n",
       "      <td>-0.048035</td>\n",
       "      <td>0.022550</td>\n",
       "      <td>-0.025441</td>\n",
       "      <td>0.021375</td>\n",
       "      <td>0.027001</td>\n",
       "      <td>0.027812</td>\n",
       "    </tr>\n",
       "    <tr>\n",
       "      <th>4</th>\n",
       "      <td>1.0</td>\n",
       "      <td>0.822496</td>\n",
       "      <td>0.109903</td>\n",
       "      <td>0.207834</td>\n",
       "      <td>0.025219</td>\n",
       "      <td>-0.060491</td>\n",
       "      <td>-0.101145</td>\n",
       "      <td>-0.072401</td>\n",
       "      <td>-0.073980</td>\n",
       "      <td>0.086378</td>\n",
       "      <td>...</td>\n",
       "      <td>0.011804</td>\n",
       "      <td>-0.012520</td>\n",
       "      <td>0.020222</td>\n",
       "      <td>-0.010222</td>\n",
       "      <td>-0.005728</td>\n",
       "      <td>-0.002048</td>\n",
       "      <td>0.018269</td>\n",
       "      <td>0.017019</td>\n",
       "      <td>0.007530</td>\n",
       "      <td>0.042409</td>\n",
       "    </tr>\n",
       "  </tbody>\n",
       "</table>\n",
       "<p>5 rows × 91 columns</p>\n",
       "</div>"
      ],
      "text/plain": [
       "    00         1         2         3         4         5         6         7  \\\n",
       "0  1.0  0.805930  0.055905  0.226350  0.026055 -0.066419 -0.078797 -0.145079   \n",
       "1  1.0  0.786381  0.047985  0.217830  0.038557 -0.039396 -0.149412  0.050848   \n",
       "2  1.0  0.822285  0.082944  0.172892  0.039958 -0.025104 -0.111584 -0.019018   \n",
       "3  1.0  0.778560 -0.004943  0.112429  0.007707  0.003708 -0.157708  0.029298   \n",
       "4  1.0  0.822496  0.109903  0.207834  0.025219 -0.060491 -0.101145 -0.072401   \n",
       "\n",
       "          8         9  ...        81        82        83        84        85  \\\n",
       "0 -0.096516  0.053527  ...  0.015478 -0.012173  0.018374  0.008865  0.004266   \n",
       "1 -0.007260  0.128269  ...  0.006740 -0.004403  0.010294  0.024727 -0.038012   \n",
       "2 -0.018544  0.109845  ...  0.003612  0.005830 -0.015862  0.006308 -0.000290   \n",
       "3 -0.081593  0.024266  ...  0.041111 -0.038418 -0.005285 -0.026917 -0.048035   \n",
       "4 -0.073980  0.086378  ...  0.011804 -0.012520  0.020222 -0.010222 -0.005728   \n",
       "\n",
       "         86        87        88        89        90  \n",
       "0 -0.006305  0.024142 -0.003932 -0.003715  0.003339  \n",
       "1 -0.008800  0.024878  0.026001  0.007904  0.039712  \n",
       "2  0.011797 -0.040587 -0.000126  0.005366 -0.000979  \n",
       "3  0.022550 -0.025441  0.021375  0.027001  0.027812  \n",
       "4 -0.002048  0.018269  0.017019  0.007530  0.042409  \n",
       "\n",
       "[5 rows x 91 columns]"
      ]
     },
     "execution_count": 171,
     "metadata": {},
     "output_type": "execute_result"
    }
   ],
   "source": [
    "for i in range(len(X.columns)):\n",
    "    X.iloc[:, i] = X.iloc[:, i]/max(X.iloc[:, i])\n",
    "X.head()"
   ]
  },
  {
   "cell_type": "markdown",
   "id": "babe1de3",
   "metadata": {},
   "source": [
    "### 4. Split for Training and Test Data"
   ]
  },
  {
   "cell_type": "markdown",
   "id": "69a3c6b1",
   "metadata": {},
   "source": [
    "The training/test split would be:\n",
    "\n",
    "Training: first 463,715 examples\n",
    "Test: last 51,630 examples\n",
    "\n",
    "This is as specified from the data's source website."
   ]
  },
  {
   "cell_type": "code",
   "execution_count": 172,
   "id": "b007ef7b",
   "metadata": {},
   "outputs": [],
   "source": [
    "X_train, X_test, Y_train, Y_test = train_test_split(X, Y, train_size=463715, test_size=51630, shuffle=False)"
   ]
  },
  {
   "cell_type": "code",
   "execution_count": 181,
   "id": "daf9492b",
   "metadata": {},
   "outputs": [],
   "source": [
    "# Making the dataset smaller to easen computing power\n",
    "train_ran = random.sample(range(len(X_train)), 5000)\n",
    "test_ran = random.sample(range(len(X_test)), 1000)\n",
    "X_train = X_train.iloc[train_ran, :]\n",
    "Y_train = Y_train.iloc[train_ran]\n",
    "X_test = X_test.iloc[test_ran, :]\n",
    "Y_test = Y_test.iloc[test_ran]"
   ]
  },
  {
   "cell_type": "markdown",
   "id": "ac243f37",
   "metadata": {},
   "source": [
    "### 5. Initiate $\\theta$ values\n",
    "\n",
    "The $\\theta$ values are referring to the ones in the hypothesis equation:\n",
    "\n",
    "$$ h_{\\theta}(X) = \\theta_{0} + \\theta_{1}X_{1} + \\theta_{2}X_{2} + \\theta_{3}X_{3} + ... + \\theta_{n}X_{n}$$"
   ]
  },
  {
   "cell_type": "code",
   "execution_count": 182,
   "id": "ee5fd5d4",
   "metadata": {},
   "outputs": [],
   "source": [
    "theta = np.array([0]*len(X_train.columns))"
   ]
  },
  {
   "cell_type": "markdown",
   "id": "14ad84cf",
   "metadata": {},
   "source": [
    "### 6. Calculate number of training data (m)\n",
    "\n",
    "This is the variable m in the cost function:\n",
    "\n",
    "$$ J(\\theta_{0}, \\theta_{1}, \\theta_{2}, ..) = \\frac{1}{2m} \\sum{(h_{i} - y_{i})^2}$$"
   ]
  },
  {
   "cell_type": "code",
   "execution_count": 183,
   "id": "2e864df5",
   "metadata": {},
   "outputs": [],
   "source": [
    "m = len(X_train)"
   ]
  },
  {
   "cell_type": "markdown",
   "id": "7cc42c12",
   "metadata": {},
   "source": [
    "### 7. Define the hypothesis function\n",
    "\n",
    "$$ h_{\\theta}(X) = \\theta_{0} + \\theta_{1}X_{1} + \\theta_{2}X_{2} + \\theta_{3}X_{3} + ... + \\theta_{n}X_{n}$$\n"
   ]
  },
  {
   "cell_type": "code",
   "execution_count": 214,
   "id": "a656d04c",
   "metadata": {},
   "outputs": [],
   "source": [
    "def hypothesis(theta, X):\n",
    "    X = np.array(X)\n",
    "    return X@theta"
   ]
  },
  {
   "cell_type": "code",
   "execution_count": 185,
   "id": "7ace61b1",
   "metadata": {},
   "outputs": [
    {
     "data": {
      "text/plain": [
       "-9991439.0"
      ]
     },
     "execution_count": 185,
     "metadata": {},
     "output_type": "execute_result"
    }
   ],
   "source": [
    "np.sum((hypothesis(theta, X_train)-np.array(Y_train))*X_train.iloc[:, 0])"
   ]
  },
  {
   "cell_type": "markdown",
   "id": "9f46d2de",
   "metadata": {},
   "source": [
    "### 8. Define the cost function\n",
    "\n",
    "$$ J(\\theta) = \\frac{1}{2m} \\sum{(h_{\\theta}(x^{(i)}) - y^{(i)})^2}$$"
   ]
  },
  {
   "cell_type": "code",
   "execution_count": 187,
   "id": "6f9f48aa",
   "metadata": {},
   "outputs": [],
   "source": [
    "def cost(X, y, theta):\n",
    "    const = 1/(2*m)\n",
    "    total_sum = np.sum((hypothesis(theta, X)-np.array(y))**2)\n",
    "    return const*total_sum"
   ]
  },
  {
   "cell_type": "code",
   "execution_count": 188,
   "id": "1c762311",
   "metadata": {},
   "outputs": [
    {
     "data": {
      "text/plain": [
       "1996639.2833"
      ]
     },
     "execution_count": 188,
     "metadata": {},
     "output_type": "execute_result"
    }
   ],
   "source": [
    "cost(X_train, Y_train, theta)"
   ]
  },
  {
   "cell_type": "markdown",
   "id": "e377ee43",
   "metadata": {},
   "source": [
    "### 9. Create function for gradient descent\n",
    "\n",
    "Repeat until convergence: {\n",
    "$$ \\theta_{j} := \\theta_{j}-\\alpha \\frac{1}{m} \\sum^{m}_{i=1} ((h_{\\theta}(x^{(i)})-y^{(i)})x_{j}^{(i)}) $$\n",
    "\n",
    "for j = 1, 2, ...n\n",
    "\n",
    "}"
   ]
  },
  {
   "cell_type": "code",
   "execution_count": 189,
   "id": "a1a836d3",
   "metadata": {},
   "outputs": [],
   "source": [
    "def gradient_descent(X, y, theta, alpha, epochs):\n",
    "    costs = []\n",
    "    \n",
    "    i = 0\n",
    "    while i < epochs:\n",
    "        constant = alpha*(1/m)\n",
    "        for j in range(len(X.columns)):\n",
    "            total_sum = np.sum((hypothesis(theta, X)-np.array(y))*X.iloc[:, j])\n",
    "            theta[j] = theta[j] - constant*total_sum\n",
    "        cost_val = cost(X, y, theta)\n",
    "        costs.append(cost_val)\n",
    "        i+=1\n",
    "    return costs, theta"
   ]
  },
  {
   "cell_type": "markdown",
   "id": "7d748141",
   "metadata": {},
   "source": [
    "### 9. Use gradient descent function to get final cost and optimized parameters theta."
   ]
  },
  {
   "cell_type": "code",
   "execution_count": 190,
   "id": "246d0820",
   "metadata": {},
   "outputs": [],
   "source": [
    "costs, theta = gradient_descent(X_train, Y_train, theta, 0.05, 500)"
   ]
  },
  {
   "cell_type": "markdown",
   "id": "719b4dd9",
   "metadata": {},
   "source": [
    "### 10. Predict output using optimized theta"
   ]
  },
  {
   "cell_type": "code",
   "execution_count": 216,
   "id": "e972ebf3",
   "metadata": {},
   "outputs": [],
   "source": [
    "y_prediction = hypothesis(theta, X_test)"
   ]
  },
  {
   "cell_type": "code",
   "execution_count": 217,
   "id": "eb398152",
   "metadata": {},
   "outputs": [
    {
     "data": {
      "text/plain": [
       "<matplotlib.collections.PathCollection at 0x7fe144bf4358>"
      ]
     },
     "execution_count": 217,
     "metadata": {},
     "output_type": "execute_result"
    },
    {
     "data": {
      "image/png": "[encoded data removed]",
      "text/plain": [
       "<Figure size 1440x1440 with 1 Axes>"
      ]
     },
     "metadata": {
      "needs_background": "light"
     },
     "output_type": "display_data"
    }
   ],
   "source": [
    "plt.figure(figsize=(20,20))\n",
    "plt.scatter(x=list(range(len(X_test))), y=Y_test, color='black', )\n",
    "plt.scatter(x=list(range(len(X_test))), y=y_prediction, color='red')"
   ]
  },
  {
   "cell_type": "code",
   "execution_count": 196,
   "id": "1faece6f",
   "metadata": {},
   "outputs": [
    {
     "data": {
      "image/png": "[encoded data removed]",
      "text/plain": [
       "<Figure size 1440x1440 with 1 Axes>"
      ]
     },
     "metadata": {
      "needs_background": "light"
     },
     "output_type": "display_data"
    }
   ],
   "source": [
    "plt.figure(figsize=(20,20))\n",
    "plt.scatter(x=list(range(500)), y=costs)\n",
    "plt.show()"
   ]
  },
  {
   "cell_type": "markdown",
   "id": "66dfcb79",
   "metadata": {},
   "source": [
    "### 12. Plot target y values and predicted y values"
   ]
  },
  {
   "cell_type": "markdown",
   "id": "34950575",
   "metadata": {},
   "source": [
    "### 13. Plot the error loss function"
   ]
  }
 ],
 "metadata": {
  "kernelspec": {
   "display_name": "Python 3",
   "language": "python",
   "name": "python3"
  },
  "language_info": {
   "codemirror_mode": {
    "name": "ipython",
    "version": 3
   },
   "file_extension": ".py",
   "mimetype": "text/x-python",
   "name": "python",
   "nbconvert_exporter": "python",
   "pygments_lexer": "ipython3",
   "version": "3.7.0"
  }
 },
 "nbformat": 4,
 "nbformat_minor": 5
}
